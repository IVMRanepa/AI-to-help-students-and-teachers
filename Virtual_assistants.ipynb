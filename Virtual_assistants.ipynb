{
  "cells": [
    {
      "cell_type": "markdown",
      "metadata": {
        "id": "view-in-github",
        "colab_type": "text"
      },
      "source": [
        "<a href=\"https://colab.research.google.com/github/IVMRanepa/AI-to-help-students-and-teachers/blob/main/Virtual_assistants.ipynb\" target=\"_parent\"><img src=\"https://colab.research.google.com/assets/colab-badge.svg\" alt=\"Open In Colab\"/></a>"
      ]
    },
    {
      "cell_type": "markdown",
      "metadata": {
        "id": "73Ig76Y79ujK"
      },
      "source": [
        "# **Виртуальные ассистенты**\n",
        "\n",
        "Внедрение ИИ в помощь студентам и преподавателям, предоставляя мгновенную информацию, советы и автоматизацию рутинных задач. Предложить решения на Python 3 (c комментариями кода, с визуализацией данных)\n",
        "Создание виртуального ассистента на Python 3, который будет помогать студентам и преподавателям, может включать такие функции, как предоставление информации, ответы на вопросы, а также базовую визуализацию данных. Вот пример кода для создания простого чат-бота с базовыми функциями, а также использование библиотеки matplotlib для визуализации данных:"
      ]
    },
    {
      "cell_type": "code",
      "execution_count": null,
      "metadata": {
        "colab": {
          "background_save": true,
          "base_uri": "https://localhost:8080/",
          "height": 507
        },
        "id": "r79jyUi59qTY",
        "outputId": "428f6d08-08bd-4039-c1f6-df871b4422c2"
      },
      "outputs": [
        {
          "name": "stdout",
          "output_type": "stream",
          "text": [
            "Виртуальный ассистент: Привет! Задайте мне вопрос или скажите 'визуализация' для отображения данных.\n"
          ]
        },
        {
          "data": {
            "image/png": "[encoded data removed]",
            "text/plain": [
              "<Figure size 640x480 with 1 Axes>"
            ]
          },
          "metadata": {},
          "output_type": "display_data"
        }
      ],
      "source": [
        "import random\n",
        "import matplotlib.pyplot as plt\n",
        "\n",
        "# Функция-бот для ответа на вопросы\n",
        "def virtual_assistant(query):\n",
        "    responses = {\n",
        "        \"привет\": \"Привет! Чем могу помочь?\",\n",
        "        \"расписание\": \"Ваше расписание доступно на университетском портале.\",\n",
        "        \"оценки\": \"Средний балл за последний семестр: 4.5.\",\n",
        "        \"пока\": \"До свидания! Удачи в обучении!\"\n",
        "    }\n",
        "    return responses.get(query.lower(), \"Извините, я не понял ваш вопрос.\")\n",
        "\n",
        "# Пример визуализации данных\n",
        "def visualize_grades():\n",
        "    subjects = ['Математика', 'Физика', 'История', 'Программирование']\n",
        "    grades = [4.0, 3.5, 5.0, 4.5]\n",
        "\n",
        "    plt.bar(subjects, grades, color='skyblue')\n",
        "    plt.title('Средние оценки по предметам')\n",
        "    plt.xlabel('Предметы')\n",
        "    plt.ylabel('Оценки')\n",
        "    plt.ylim(0, 5)  # Оценки по пятибалльной шкале\n",
        "    plt.show()\n",
        "\n",
        "# Интерфейс для взаимодействия\n",
        "if __name__ == \"__main__\":\n",
        "    print(\"Виртуальный ассистент: Привет! Задайте мне вопрос или скажите 'визуализация' для отображения данных.\")\n",
        "    while True:\n",
        "        user_input = input(\"Вы: \")\n",
        "        if user_input.lower() == \"визуализация\":\n",
        "            visualize_grades()\n",
        "        elif user_input.lower() in [\"пока\", \"выход\"]:\n",
        "            print(\"Виртуальный ассистент: Пока!\")\n",
        "            break\n",
        "        else:\n",
        "            print(\"Виртуальный ассистент:\", virtual_assistant(user_input))"
      ]
    },
    {
      "cell_type": "markdown",
      "metadata": {
        "id": "jRC9i6Eb97ub"
      },
      "source": [
        "Описание кода:\n",
        "1.\tОтветы на запросы: Используется словарь responses, чтобы сопоставить запросы с заранее подготовленными ответами.\n",
        "2.\tВизуализация данных: Функция visualize_grades создает гистограмму с помощью библиотеки matplotlib.\n",
        "3.\tВзаимодействие с пользователем: Простой интерфейс на основе команд input и print позволяет взаимодействовать с ботом.\n",
        "Этот пример можно расширить, добавив API-интеграции, поддержку естественного языка с помощью библиотеки nltk или transformers, а также более сложные алгоритмы анализа данных. Это простой старт для демонстрации возможностей!"
      ]
    },
    {
      "cell_type": "markdown",
      "metadata": {
        "id": "bvBiyF1X-U6C"
      },
      "source": [
        "Добавление машинного обучения (ML) к вашему виртуальному ассистенту сделает его гораздо умнее и функциональнее! Вот несколько шагов, чтобы интегрировать ML в проект:\n",
        "2. Использование обработки естественного языка (NLP)\n",
        "Чтобы ваш ассистент понимал текстовые запросы и отвечал на них более осмысленно, можно применить библиотеку, такую как scikit-learn или transformers. Пример кода ниже демонстрирует использование модели из библиотеки transformers для обработки запросов:"
      ]
    },
    {
      "cell_type": "code",
      "execution_count": null,
      "metadata": {
        "id": "4z82fN7M-YPZ"
      },
      "outputs": [],
      "source": [
        "from transformers import pipeline\n",
        "\n",
        "# Загрузка модели машинного обучения для обработки языка\n",
        "nlp_model = pipeline(\"question-answering\")\n",
        "\n",
        "# Пример базы знаний\n",
        "context = \"\"\"\n",
        "    Виртуальный ассистент может анализировать запросы и предоставлять информацию о расписании,\n",
        "    оценках, а также отображать визуализации данных.\n",
        "\"\"\"\n",
        "\n",
        "# Функция для ответа на вопросы с использованием модели\n",
        "def answer_question(question):\n",
        "    result = nlp_model(question=question, context=context)\n",
        "    return result['answer']\n",
        "\n",
        "# Пример запроса\n",
        "user_question = \"Что может делать виртуальный ассистент?\"\n",
        "print(\"Ответ:\", answer_question(user_question))"
      ]
    },
    {
      "cell_type": "markdown",
      "metadata": {
        "id": "Cfm7OxgS-nIS"
      },
      "source": [
        "Объяснение:\n",
        "*\tИспользуется модель для извлечения ответов из контекста.\n",
        "*\tФункция берет на себя обработку запросов на основе базы знаний."
      ]
    },
    {
      "cell_type": "markdown",
      "metadata": {
        "id": "XbGQuYs--uJS"
      },
      "source": [
        "**3. Классификация запросов**\n",
        "\n",
        "Чтобы ассистент распознавал типы запросов (например, \"визуализация\" или \"расписание\"), можно обучить классификатор запросов. Пример с scikit-learn:"
      ]
    },
    {
      "cell_type": "code",
      "execution_count": null,
      "metadata": {
        "id": "9BIvCPAz-12I"
      },
      "outputs": [],
      "source": [
        "from sklearn.feature_extraction.text import CountVectorizer\n",
        "from sklearn.naive_bayes import MultinomialNB\n",
        "\n",
        "# Обучающие данные\n",
        "queries = [\"покажи оценки\", \"что в расписании\", \"создай график\", \"анализ данных\"]\n",
        "labels = [\"оценки\", \"расписание\", \"визуализация\", \"анализ\"]\n",
        "\n",
        "# Векторизация текста\n",
        "vectorizer = CountVectorizer()\n",
        "X = vectorizer.fit_transform(queries)\n",
        "\n",
        "# Обучение модели\n",
        "model = MultinomialNB()\n",
        "model.fit(X, labels)\n",
        "\n",
        "# Классификация нового запроса\n",
        "def classify_query(query):\n",
        "    X_new = vectorizer.transform([query])\n",
        "    return model.predict(X_new)[0]\n",
        "\n",
        "# Пример\n",
        "user_input = \"покажи мне график оценок\"\n",
        "print(\"Тип запроса:\", classify_query(user_input))"
      ]
    },
    {
      "cell_type": "markdown",
      "metadata": {
        "id": "wgFl-F6n_CwK"
      },
      "source": [
        "**Объяснение:**\n",
        "*\tИспользуется наивный байесовский классификатор для определения категории запроса.\n",
        "*\tЭтот подход подходит для небольших наборов данных."
      ]
    },
    {
      "cell_type": "markdown",
      "metadata": {
        "id": "hCkDwYV1_IUS"
      },
      "source": [
        "**3. Визуализация на основе прогнозов**\n",
        "\n",
        "Для создания более продвинутой визуализации, можно включить регрессию или кластеризацию. Например, прогнозирование оценок студента:"
      ]
    },
    {
      "cell_type": "code",
      "execution_count": null,
      "metadata": {
        "id": "uDIzU4sw_OK0"
      },
      "outputs": [],
      "source": [
        "import numpy as np\n",
        "from sklearn.linear_model import LinearRegression\n",
        "import matplotlib.pyplot as plt\n",
        "\n",
        "# Данные: часы учебы и оценки\n",
        "hours = np.array([1, 2, 3, 4, 5]).reshape(-1, 1)\n",
        "grades = np.array([2.5, 3.0, 3.5, 4.0, 4.5])\n",
        "\n",
        "# Модель регрессии\n",
        "model = LinearRegression()\n",
        "model.fit(hours, grades)\n",
        "\n",
        "# Прогноз\n",
        "future_hours = np.array([6, 7, 8]).reshape(-1, 1)\n",
        "predicted_grades = model.predict(future_hours)\n",
        "\n",
        "# Визуализация\n",
        "plt.scatter(hours, grades, color=\"blue\", label=\"Фактические данные\")\n",
        "plt.plot(future_hours, predicted_grades, color=\"green\", label=\"Прогноз\")\n",
        "plt.title(\"Прогноз оценок на основе времени обучения\")\n",
        "plt.xlabel(\"Часы учебы\")\n",
        "plt.ylabel(\"Оценки\")\n",
        "plt.legend()\n",
        "plt.show()"
      ]
    },
    {
      "cell_type": "markdown",
      "metadata": {
        "id": "G1mJeLPb_X6c"
      },
      "source": [
        "**Объяснение:**\n",
        "*\tЛинейная регрессия используется для прогнозирования оценок на основе времени обучения.\n",
        "*\tРезультаты визуализируются в графике.\n",
        "\n",
        "Интеграция машинного обучения позволяет значительно расширить функционал вашего ассистента: от предсказания оценок до понимания контекста запросов."
      ]
    },
    {
      "cell_type": "markdown",
      "metadata": {
        "id": "cEDO5NAq_kId"
      },
      "source": [
        "**4. Чат-бот с использованием OpenAI API**\n",
        "\n",
        "Можно интегрировать GPT-модель через OpenAI API, чтобы ассистент понимал запросы на естественном языке. Пример простого кода:"
      ]
    }
  ],
  "metadata": {
    "colab": {
      "provenance": [],
      "name": "Virtual assistants.ipynb",
      "authorship_tag": "ABX9TyNnFMnW5fapkjgC5FoUDEM6",
      "include_colab_link": true
    },
    "kernelspec": {
      "display_name": "Python 3",
      "name": "python3"
    },
    "language_info": {
      "name": "python"
    }
  },
  "nbformat": 4,
  "nbformat_minor": 0
}