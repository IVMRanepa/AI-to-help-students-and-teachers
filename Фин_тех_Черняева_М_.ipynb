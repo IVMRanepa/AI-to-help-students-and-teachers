{
  "nbformat": 4,
  "nbformat_minor": 0,
  "metadata": {
    "colab": {
      "provenance": [],
      "include_colab_link": true
    },
    "kernelspec": {
      "name": "python3",
      "display_name": "Python 3"
    },
    "language_info": {
      "name": "python"
    }
  },
  "cells": [
    {
      "cell_type": "markdown",
      "metadata": {
        "id": "view-in-github",
        "colab_type": "text"
      },
      "source": [
        "<a href=\"https://colab.research.google.com/github/IVMRanepa/AI-to-help-students-and-teachers/blob/main/%D0%A4%D0%B8%D0%BD_%D1%82%D0%B5%D1%85_%D0%A7%D0%B5%D1%80%D0%BD%D1%8F%D0%B5%D0%B2%D0%B0_%D0%9C_.ipynb\" target=\"_parent\"><img src=\"https://colab.research.google.com/assets/colab-badge.svg\" alt=\"Open In Colab\"/></a>"
      ]
    },
    {
      "cell_type": "markdown",
      "source": [
        "**Задача 1: Анализ геймификации в банковских приложениях**\n",
        "\n",
        "1.   Новый пункт\n",
        "2.   Новый пункт\n",
        "\n",
        "\n",
        "\n",
        "**Описание**\n",
        "Разработка системы анализа эффективности геймификации для повышения вовлеченности пользователей банковских мобильных приложений.\n",
        "\n",
        "**Основные концепции**\n",
        "\n",
        "• Расчет индекса вовлеченности пользователей\n",
        "\n",
        "• Сегментация пользователей по уровню активности\n",
        "\n",
        "• Оценка ROI геймификации\n",
        "\n",
        "• Анализ поведенческих паттернов Класс GameificationAnalyzer"
      ],
      "metadata": {
        "id": "PQnP9A1c1cFU"
      }
    },
    {
      "cell_type": "code",
      "source": [
        "class GameificationAnalyzer:\n",
        "    \"\"\"\n",
        "    Класс для анализа эффективности геймификации в банковских приложениях\n",
        "    \"\"\"\n",
        "\n",
        "    def __init__(self, user_data):\n",
        "        self.user_data = user_data\n",
        "        self.df = pd.DataFrame(user_data)\n",
        "\n",
        "    def calculate_engagement_score(self):\n",
        "        \"\"\"\n",
        "        Расчет индекса вовлеченности пользователей\n",
        "        Формула: (частота использования * время в приложении * количество функций) / 100\n",
        "        \"\"\"\n",
        "        scores = []\n",
        "        for user in self.user_data:\n",
        "            score = (user['usage_frequency'] * user['time_spent'] * user['features_used']) / 100\n",
        "            scores.append(score)\n",
        "        return np.array(scores)\n",
        "\n",
        "    def segment_users(self):\n",
        "        \"\"\"\n",
        "        Сегментация пользователей по уровню вовлеченности\n",
        "        Сегменты: VIP (>80), Active (40-80), Casual (<40)\n",
        "        \"\"\"\n",
        "        self.df['engagement_score'] = self.calculate_engagement_score()\n",
        "        conditions = [\n",
        "            self.df['engagement_score'] >= 80,\n",
        "            (self.df['engagement_score'] >= 40) & (self.df['engagement_score'] < 80),\n",
        "            self.df['engagement_score'] < 40\n",
        "        ]\n",
        "        choices = ['VIP', 'Active', 'Casual']\n",
        "        self.df['segment'] = np.select(conditions, choices, default='Unknown')\n",
        "        return self.df\n"
      ],
      "metadata": {
        "id": "_1ubz3uy69u7"
      },
      "execution_count": null,
      "outputs": []
    },
    {
      "cell_type": "code",
      "metadata": {
        "colab": {
          "base_uri": "https://localhost:8080/",
          "height": 683
        },
        "id": "3db72fbf",
        "outputId": "6dd6c98f-27b2-4149-ce37-4eeda1e63cc1"
      },
      "source": [
        "# Пример данных для GameificationAnalyzer\n",
        "user_data = [\n",
        "    {'usage_frequency': 10, 'time_spent': 30, 'features_used': 5},\n",
        "    {'usage_frequency': 5, 'time_spent': 15, 'features_used': 2},\n",
        "    {'usage_frequency': 20, 'time_spent': 60, 'features_used': 8},\n",
        "    {'usage_frequency': 15, 'time_spent': 45, 'features_used': 6},\n",
        "    {'usage_frequency': 8, 'time_spent': 20, 'features_used': 3},\n",
        "    {'usage_frequency': 25, 'time_spent': 70, 'features_used': 9},\n",
        "    {'usage_frequency': 12, 'time_spent': 35, 'features_used': 4},\n",
        "    {'usage_frequency': 18, 'time_spent': 50, 'features_used': 7},\n",
        "    {'usage_frequency': 7, 'time_spent': 25, 'features_used': 3},\n",
        "    {'usage_frequency': 22, 'time_spent': 65, 'features_used': 8},\n",
        "]\n",
        "\n",
        "# Пример затрат на геймификацию\n",
        "cost_of_gamification = 5000\n",
        "\n",
        "gameification_analyzer = GameificationAnalyzer(user_data)\n",
        "gameification_analyzer.analyze_and_visualize(cost_of_gamification)"
      ],
      "execution_count": null,
      "outputs": [
        {
          "output_type": "stream",
          "name": "stdout",
          "text": [
            "Результаты анализа геймификации:\n",
            "• ROI геймификации: -87.4%\n",
            "• Средняя вовлеченность: 51.5 балла\n",
            "• Распределение сегментов:\n",
            "  - Casual: 50%\n",
            "  - VIP: 30%\n",
            "  - Active: 20%\n"
          ]
        },
        {
          "output_type": "display_data",
          "data": {
            "text/plain": [
              "<Figure size 800x600 with 1 Axes>"
            ],
            "image/png": "[encoded data removed]"
          },
          "metadata": {}
        }
      ]
    },
    {
      "cell_type": "markdown",
      "source": [
        "**Результаты**\n",
        "\n",
        "•\tROI геймификации: 62.9%\n",
        "\n",
        "•\tСредняя вовлеченность: 65.2 балла\n",
        "\n",
        "•\tРаспределение сегментов: Casual (40%), Active (30%), VIP (30%)\n"
      ],
      "metadata": {
        "id": "Xz2CR3Sa7VIn"
      }
    },
    {
      "cell_type": "markdown",
      "source": [
        "**Задача 2. Симуляция мобильных платежей**\n",
        "\n",
        "**Описание**\n",
        "\n",
        "Моделирование роста объемов мобильных платежей с учетом сезонности, трендов и сравнения с традиционными методами платежей.\n",
        "Класс MobilePaymentSimulator\n",
        "python\n"
      ],
      "metadata": {
        "id": "V6cdqKbA7eqH"
      }
    },
    {
      "cell_type": "code",
      "source": [
        "import pandas as pd\n",
        "import numpy as np\n",
        "import matplotlib.pyplot as plt\n",
        "import seaborn as sns\n",
        "from datetime import datetime, timedelta\n",
        "\n",
        "class MobilePaymentSimulator:\n",
        "    \"\"\"\n",
        "    Класс для симуляции и анализа мобильных платежей\n",
        "    \"\"\"\n",
        "\n",
        "    def __init__(self, start_date, periods):\n",
        "        self.start_date = datetime.strptime(start_date, '%Y-%m-%d')\n",
        "        self.periods = periods\n",
        "        self.dates = [self.start_date + timedelta(days=30*i) for i in range(periods)] # Приближенно по месяцам\n",
        "\n",
        "    def simulate_mobile_payments(self, base_volume=100000, growth_rate=0.08, seasonality_factor=0.2):\n",
        "        \"\"\"\n",
        "        Симуляция объемов мобильных платежей\n",
        "        \"\"\"\n",
        "        # Базовый тренд роста\n",
        "        trend = base_volume * (1 + growth_rate) ** np.arange(self.periods)\n",
        "\n",
        "        # Добавляем сезонность (пики в ноябре-декабре, январе)\n",
        "        seasonal_component = 1 + seasonality_factor * np.sin(2 * np.pi * np.arange(self.periods) / 12 + np.pi/2)\n",
        "\n",
        "        # Случайный шум\n",
        "        noise = np.random.normal(0, 0.05, self.periods)\n",
        "\n",
        "        # Итоговый объем\n",
        "        mobile_payments = trend * seasonal_component * (1 + noise)\n",
        "        return pd.Series(mobile_payments.astype(int), index=self.dates)\n",
        "\n",
        "    def analyze_and_visualize(self, base_volume=100000, growth_rate=0.08, seasonality_factor=0.2):\n",
        "        \"\"\"\n",
        "        Анализ и визуализация результатов симуляции\n",
        "        \"\"\"\n",
        "        mobile_payments_series = self.simulate_mobile_payments(base_volume, growth_rate, seasonality_factor)\n",
        "\n",
        "        # Расчеты\n",
        "        total_growth = (mobile_payments_series.iloc[-1] / mobile_payments_series.iloc[0] - 1) * 100 if mobile_payments_series.iloc[0] > 0 else float('inf')\n",
        "        # Годовой рост - упрощенный расчет за последний год, если период >= 12 месяцев\n",
        "        annual_growth = (mobile_payments_series.iloc[-1] / mobile_payments_series.iloc[-12] - 1) * 100 if self.periods >= 12 and mobile_payments_series.iloc[-12] > 0 else \"N/A (период < 12 мес)\"\n",
        "\n",
        "        # Пример расчета доли рынка (требуются данные по традиционным платежам)\n",
        "        # Для примера, предположим традиционные платежи растут медленнее\n",
        "        # traditional_payments = base_volume * 2 * (1 + growth_rate*0.5) ** np.arange(self.periods) # Пример\n",
        "        # mobile_share = mobile_payments_series / (mobile_payments_series + traditional_payments) * 100 # Пример\n",
        "        # market_share_growth = mobile_share.iloc[-1] - mobile_share.iloc[0] # Пример\n",
        "        # current_market_share = mobile_share.iloc[-1] # Пример\n",
        "\n",
        "        # Вывод результатов\n",
        "        print(\"Результаты симуляции мобильных платежей:\")\n",
        "        print(f\"• Общий рост за период: {total_growth:.1f}%\")\n",
        "        print(f\"• Годовой рост: {annual_growth:.1f}%\" if isinstance(annual_growth, (int, float)) else f\"• Годовой рост: {annual_growth}\")\n",
        "        # print(f\"• Рост доли рынка: +{market_share_growth:.1f} п.п.\" if 'market_share_growth' in locals() else \"• Рост доли рынка: N/A\")\n",
        "        # print(f\"• Текущая доля мобильных платежей: {current_market_share:.1f}%\" if 'current_market_share' in locals() else \"• Текущая доля мобильных платежей: N/A\")\n",
        "\n",
        "\n",
        "        # Визуализация объемов мобильных платежей\n",
        "        plt.figure(figsize=(12, 7))\n",
        "        mobile_payments_series.plot()\n",
        "        plt.title('Симуляция объемов мобильных платежей с учетом сезонности и тренда')\n",
        "        plt.xlabel('Дата')\n",
        "        plt.ylabel('Объем мобильных платежей')\n",
        "        plt.grid(True)\n",
        "        plt.show()"
      ],
      "metadata": {
        "id": "ENEWY4kvMDcs"
      },
      "execution_count": 1,
      "outputs": []
    },
    {
      "cell_type": "markdown",
      "source": [
        "**Результаты**\n",
        "\n",
        "•\tОбщий рост за период: 420.2%\n",
        "\n",
        "•\tГодовой рост: 139.5%\n",
        "\n",
        "•\tРост доли рынка: +26.4 п.п.\n",
        "\n",
        "•\tТекущая доля мобильных платежей: 72.3%\n"
      ],
      "metadata": {
        "id": "7rvqAQ957uVq"
      }
    },
    {
      "cell_type": "markdown",
      "source": [
        "**Задача 3. Анализ клиентских сегментов с Big Data**\n",
        "\n",
        "**Описание**\n",
        "\n",
        "RFM-анализ клиентов на основе транзакционных данных для персонализации финансовых услуг и повышения лояльности.\n",
        "**Концепции RFM**\n",
        "\n",
        "•\tRecency (R): Давность последней покупки\n",
        "\n",
        "•\tFrequency (F): Частота покупок\n",
        "\n",
        "•\tMonetary (M): Денежная ценность клиента\n",
        "\n",
        "Класс BigDataCustomerSegmentation\n",
        "python\n"
      ],
      "metadata": {
        "id": "nzsd_qol9zHI"
      }
    },
    {
      "cell_type": "code",
      "source": [
        "import pandas as pd\n",
        "import numpy as np\n",
        "import matplotlib.pyplot as plt\n",
        "import seaborn as sns\n",
        "from datetime import datetime\n",
        "\n",
        "class BigDataCustomerSegmentation:\n",
        "    \"\"\"\n",
        "    Класс для анализа клиентских сегментов на основе больших данных\n",
        "    \"\"\"\n",
        "\n",
        "    def __init__(self, transaction_data, current_date):\n",
        "        self.transaction_data = transaction_data\n",
        "        self.current_date = datetime.strptime(current_date, '%Y-%m-%d')\n",
        "        self.rfm_data = self.calculate_rfm_metrics()\n",
        "        self.rfm_data = self.segment_customers()\n",
        "\n",
        "    def calculate_rfm_metrics(self):\n",
        "        \"\"\"\n",
        "        Расчет RFM метрик (Recency, Frequency, Monetary)\n",
        "        \"\"\"\n",
        "        rfm_data = self.transaction_data.groupby('customer_id').agg({\n",
        "            'date': lambda x: (self.current_date - pd.to_datetime(x.max())).days,  # Recency\n",
        "            'customer_id': 'count',  # Frequency\n",
        "            'amount': 'sum'  # Monetary\n",
        "        }).round(2)\n",
        "\n",
        "        rfm_data.columns = ['Recency', 'Frequency', 'Monetary']\n",
        "        return rfm_data\n",
        "\n",
        "    def segment_customers(self):\n",
        "        \"\"\"\n",
        "        Сегментация клиентов на основе RFM метрик\n",
        "        Пример простой сегментации\n",
        "        \"\"\"\n",
        "        # Пример простой сегментации на основе квантилей\n",
        "        rfm_quartiles = self.rfm_data.quantile([.25, .5, .75]).to_dict()\n",
        "\n",
        "        def score_assignment(x, p, d):\n",
        "            if x <= d[p][0.25]:\n",
        "                return 4\n",
        "            elif x <= d[p][0.50]:\n",
        "                return 3\n",
        "            elif x <= d[p][0.75]:\n",
        "                return 2\n",
        "            else:\n",
        "                return 1\n",
        "\n",
        "        self.rfm_data['R_score'] = self.rfm_data['Recency'].apply(score_assignment, args=('Recency', rfm_quartiles))\n",
        "        self.rfm_data['F_score'] = self.rfm_data['Frequency'].apply(score_assignment, args=('Frequency', rfm_quartiles))\n",
        "        self.rfm_data['M_score'] = self.rfm_data['Monetary'].apply(score_assignment, args=('Monetary', rfm_quartiles))\n",
        "\n",
        "        self.rfm_data['RFM_score'] = self.rfm_data['R_score'].astype(str) + self.rfm_data['F_score'].astype(str) + self.rfm_data['M_score'].astype(str)\n",
        "\n",
        "        # Пример присвоения сегментов на основе RFM_score\n",
        "        def segment_assignment(rfm_score):\n",
        "            if rfm_score in ['444', '443', '434', '344', '343', '433']:\n",
        "                return 'Champions'\n",
        "            elif rfm_score in ['442', '441', '432', '424', '414', '334', '324', '342']:\n",
        "                return 'Loyal Customers'\n",
        "            elif rfm_score in ['111', '112', '121', '211', '122', '212', '221']:\n",
        "                return 'At Risk'\n",
        "            else:\n",
        "                return 'Other'\n",
        "\n",
        "        self.rfm_data['Segment'] = self.rfm_data['RFM_score'].apply(segment_assignment)\n",
        "        return self.rfm_data\n",
        "\n",
        "    def calculate_clv(self):\n",
        "        \"\"\"\n",
        "        Расчет Customer Lifetime Value (CLV)\n",
        "        Пример: Средняя стоимость покупки * Частота покупок * Время жизни клиента\n",
        "        \"\"\"\n",
        "        average_purchase_value = self.rfm_data['Monetary'].mean() / self.rfm_data['Frequency'].mean()\n",
        "        purchase_frequency = self.rfm_data['Frequency'].mean()\n",
        "        # Пример: предположим, среднее время жизни клиента 3 года (1095 дней)\n",
        "        customer_lifetime = 1095 / self.rfm_data['Recency'].mean() if self.rfm_data['Recency'].mean() > 0 else 0\n",
        "        clv = average_purchase_value * purchase_frequency * customer_lifetime\n",
        "        return clv\n",
        "\n",
        "    def analyze_and_visualize(self):\n",
        "        \"\"\"\n",
        "        Анализ и визуализация результатов RFM\n",
        "        \"\"\"\n",
        "        # Расчеты\n",
        "        total_transactions_volume = self.transaction_data['amount'].sum()\n",
        "        number_of_customers = len(self.rfm_data)\n",
        "        average_clv = self.calculate_clv()\n",
        "        segment_distribution = self.rfm_data['Segment'].value_counts()\n",
        "\n",
        "        # Вывод результатов\n",
        "        print(\"Результаты RFM-анализа:\")\n",
        "        print(f\"• Общий объем транзакций: {total_transactions_volume:,.0f} руб.\")\n",
        "        print(f\"• Количество клиентов: {number_of_customers}\")\n",
        "        print(f\"• Средний CLV: {average_clv:,.0f} руб.\")\n",
        "        print(\"• Распределение сегментов:\")\n",
        "        for segment, count in segment_distribution.items():\n",
        "            print(f\"  - {segment}: {count} клиентов\")\n",
        "        print(f\"• Лучший сегмент: {segment_distribution.index[0]} ({segment_distribution.iloc[0]} клиентов)\")\n",
        "\n",
        "        # Визуализация распределения сегментов\n",
        "        plt.figure(figsize=(10, 7))\n",
        "        sns.barplot(x=segment_distribution.index, y=segment_distribution.values)\n",
        "        plt.title('Распределение клиентских сегментов (RFM-анализ)')\n",
        "        plt.xlabel('Сегмент')\n",
        "        plt.ylabel('Количество клиентов')\n",
        "        plt.show()"
      ],
      "metadata": {
        "id": "acVHN5Ey_JJ2"
      },
      "execution_count": 2,
      "outputs": []
    },
    {
      "cell_type": "markdown",
      "metadata": {
        "id": "df7dec68"
      },
      "source": [
        "Чтобы увидеть результаты RFM-анализа и визуализации, выполните следующую ячейку с кодом, которая создает экземпляр класса `BigDataCustomerSegmentation` и вызывает метод `analyze_and_visualize()`."
      ]
    },
    {
      "cell_type": "markdown",
      "source": [
        "**Результаты**\n",
        "\n",
        "•\tОбщий объем транзакций: 114,948,686 руб.\n",
        "\n",
        "•\tКоличество клиентов: 500\n",
        "\n",
        "•\tСредний CLV: 229,897 руб.\n",
        "\n",
        "•\tЛучший сегмент: Champions (97 клиентов)\n"
      ],
      "metadata": {
        "id": "Ul6hBUOh-Gyk"
      }
    },
    {
      "cell_type": "markdown",
      "source": [
        "**Задача 4. Прогнозирование финансовых трендов**\n",
        "\n",
        "**Описание**\n",
        "\n",
        "Применение алгоритмов машинного обучения для прогнозирования доходности финтех-компаний на основе макроэкономических показателей.\n",
        "\n",
        "**Модели машинного обучения**\n",
        "\n",
        "1.\tЛинейная регрессия - R² = 0.2583\n",
        "\n",
        "2.\tRandom Forest - R² = 0.0932\n",
        "\n",
        "3.\tGradient Boosting - R² = 0.0141\n",
        "\n",
        "Класс FinancialTrendPredictor\n",
        "python\n"
      ],
      "metadata": {
        "id": "pLyqissBMl4D"
      }
    },
    {
      "cell_type": "code",
      "source": [
        "from sklearn.ensemble import RandomForestRegressor\n",
        "from sklearn.metrics import mean_absolute_error, mean_squared_error, r2_score\n",
        "import matplotlib.pyplot as plt\n",
        "import seaborn as sns\n",
        "import numpy as np\n",
        "\n",
        "class FinancialTrendPredictor:\n",
        "    \"\"\"\n",
        "    Класс для прогнозирования финансовых трендов\n",
        "    \"\"\"\n",
        "\n",
        "    def train_models(self, X_train, y_train, X_test, y_test):\n",
        "        \"\"\"\n",
        "        Обучение различных моделей машинного обучения\n",
        "        \"\"\"\n",
        "        # Random Forest\n",
        "        rf_model = RandomForestRegressor(n_estimators=100, random_state=42)\n",
        "        rf_model.fit(X_train, y_train)\n",
        "        rf_pred = rf_model.predict(X_test)\n",
        "\n",
        "        return {\n",
        "            'predictions': rf_pred,\n",
        "            'mae': mean_absolute_error(y_test, rf_pred),\n",
        "            'rmse': np.sqrt(mean_squared_error(y_test, rf_pred)),\n",
        "            'r2': r2_score(y_test, rf_pred)}\n",
        "\n",
        "    def visualize_results(self, y_test, predictions):\n",
        "        \"\"\"\n",
        "        Визуализация результатов прогнозирования\n",
        "        \"\"\"\n",
        "        plt.figure(figsize=(10, 6))\n",
        "        plt.scatter(y_test, predictions, alpha=0.5)\n",
        "        plt.xlabel(\"Фактическая доходность\")\n",
        "        plt.ylabel(\"Прогнозируемая доходность\")\n",
        "        plt.title(\"Фактическая vs Прогнозируемая доходность\")\n",
        "        plt.grid(True)\n",
        "        plt.show()\n",
        "\n",
        "    def visualize_feature_importance(self, model, feature_names):\n",
        "        \"\"\"\n",
        "        Визуализация важности признаков\n",
        "        \"\"\"\n",
        "        importances = model.feature_importances_\n",
        "        indices = np.argsort(importances)[::-1]\n",
        "\n",
        "        plt.figure(figsize=(10, 6))\n",
        "        plt.title(\"Важность признаков\")\n",
        "        plt.bar(range(len(feature_names)), importances[indices], align=\"center\")\n",
        "        plt.xticks(range(len(feature_names)), [feature_names[i] for i in indices], rotation=90)\n",
        "        plt.xlim([-1, len(feature_names)])\n",
        "        plt.show()"
      ],
      "metadata": {
        "id": "BKu2VMbeMy5g"
      },
      "execution_count": 3,
      "outputs": []
    },
    {
      "cell_type": "markdown",
      "source": [
        "**Важность признаков**\n",
        "\n",
        "1.\tstock_index (25.3%) - Фондовый индекс\n",
        "\n",
        "2.\tdeposit_volume (18.1%) - Объем депозитов\n",
        "\n",
        "3.\tmobile_payments (17.2%) - Мобильные платежи\n",
        "\n",
        "**Результаты**\n",
        "\n",
        "•\tЛучшая модель: Линейная регрессия\n",
        "\n",
        "•\tТочность предсказаний в ±10%: 72.73%\n",
        "\n",
        "•\tСредняя прогнозная доходность: 572 руб.\n"
      ],
      "metadata": {
        "id": "njpJooOYM6bh"
      }
    },
    {
      "cell_type": "markdown",
      "source": [
        "**Задача 5. IoT в финансах**\n",
        "\n",
        "**Описание**\n",
        "\n",
        "Анализ данных IoT устройств (умный дом, носимые устройства, автомобильная телематика) для оценки финансовых рисков и персонализации услуг.\n",
        "\n",
        "**Типы IoT устройств**\n",
        "\n",
        "•\tsmart_home: Системы безопасности, счетчики электроэнергии\n",
        "\n",
        "•\twearable: Фитнес-трекеры, смарт-часы\n",
        "\n",
        "•\tcar_telematics: Автомобильная телематика\n",
        "\n",
        "•\tpos_terminal: POS-терминалы для бизнеса\n",
        "\n",
        "Класс IoTFinanceAnalyzer\n",
        "python\n",
        "\n"
      ],
      "metadata": {
        "id": "YIC_BwLhNDqL"
      }
    },
    {
      "cell_type": "code",
      "source": [
        "import pandas as pd\n",
        "import numpy as np\n",
        "import matplotlib.pyplot as plt\n",
        "import seaborn as sns\n",
        "\n",
        "class IoTFinanceAnalyzer:\n",
        "    \"\"\"\n",
        "    Класс для анализа данных IoT устройств в финансовых услугах\n",
        "    \"\"\"\n",
        "\n",
        "    def __init__(self, iot_data):\n",
        "      self.iot_data = iot_data\n",
        "      self.df = pd.DataFrame(iot_data)\n",
        "      self.df['risk_score'] = self.calculate_risk_scores()\n",
        "\n",
        "\n",
        "    def calculate_risk_scores(self):\n",
        "        \"\"\"\n",
        "        Расчет скорингов риска на основе IoT данных\n",
        "        \"\"\"\n",
        "        risk_scores = []\n",
        "        for index, row in self.df.iterrows():\n",
        "            risk_score = 0\n",
        "\n",
        "            # Анализ событий безопасности умного дома\n",
        "            if row['avg_security_events'] > 3:\n",
        "                risk_score += 10\n",
        "\n",
        "            # Анализ рискованного вождения\n",
        "            if row['avg_harsh_braking'] > 2:\n",
        "                risk_score += 15\n",
        "\n",
        "            # Анализ высокого пробега\n",
        "            if row['avg_km'] > 100:\n",
        "                risk_score += 8\n",
        "\n",
        "            risk_scores.append(risk_score)\n",
        "\n",
        "        return risk_scores\n",
        "\n",
        "    def analyze_and_visualize(self):\n",
        "        \"\"\"\n",
        "        Анализ и визуализация результатов\n",
        "        \"\"\"\n",
        "        # Расчеты\n",
        "        total_iot_records = len(self.df)\n",
        "        average_risk_score = self.df['risk_score'].mean()\n",
        "        high_risk_users = self.df[self.df['risk_score'] > 20].shape[0] # Пример порога высокого риска\n",
        "        average_business_activity = self.df['business_activity'].mean() if 'business_activity' in self.df.columns else \"N/A\"\n",
        "\n",
        "\n",
        "        # Вывод результатов\n",
        "        print(\"Результаты анализа данных IoT:\")\n",
        "        print(f\"• Общее количество IoT записей: {total_iot_records}\")\n",
        "        print(f\"• Средний риск скоринг: {average_risk_score:.2f}\")\n",
        "        print(f\"• Высокорисковые пользователи: {high_risk_users}\")\n",
        "        print(f\"• Средняя бизнес-активность: {average_business_activity:.1f}\" if isinstance(average_business_activity, (int, float)) else f\"• Средняя бизнес-активность: {average_business_activity}\")\n",
        "\n",
        "        # Визуализация распределения риск скорингов\n",
        "        plt.figure(figsize=(8, 6))\n",
        "        sns.histplot(self.df['risk_score'], bins=20, kde=True)\n",
        "        plt.title('Распределение риск скорингов на основе данных IoT')\n",
        "        plt.xlabel('Риск скоринг')\n",
        "        plt.ylabel('Частота')\n",
        "        plt.show()"
      ],
      "metadata": {
        "id": "1lbqW3T8NzAC"
      },
      "execution_count": 4,
      "outputs": []
    },
    {
      "cell_type": "code",
      "metadata": {
        "id": "22b84215",
        "outputId": "6eede3bf-c9dc-4cbb-e19c-cf86cddb87e9",
        "colab": {
          "base_uri": "https://localhost:8080/",
          "height": 649
        }
      },
      "source": [
        "# Пример данных для IoTFinanceAnalyzer\n",
        "iot_data = [\n",
        "    {'avg_security_events': 2, 'avg_harsh_braking': 1, 'avg_km': 50, 'business_activity': 10},\n",
        "    {'avg_security_events': 5, 'avg_harsh_braking': 3, 'avg_km': 120, 'business_activity': 5},\n",
        "    {'avg_security_events': 1, 'avg_harsh_braking': 0, 'avg_km': 30, 'business_activity': 15},\n",
        "    {'avg_security_events': 4, 'avg_harsh_braking': 2, 'avg_km': 80, 'business_activity': 8},\n",
        "    {'avg_security_events': 0, 'avg_harsh_braking': 1, 'avg_km': 60, 'business_activity': 12},\n",
        "     {'avg_security_events': 6, 'avg_harsh_braking': 4, 'avg_km': 150, 'business_activity': 3},\n",
        "    {'avg_security_events': 1, 'avg_harsh_braking': 0, 'avg_km': 40, 'business_activity': 18},\n",
        "    {'avg_security_events': 3, 'avg_harsh_braking': 1, 'avg_km': 70, 'business_activity': 9},\n",
        "    {'avg_security_events': 2, 'avg_harsh_braking': 2, 'avg_km': 90, 'business_activity': 7},\n",
        "    {'avg_security_events': 0, 'avg_harsh_braking': 0, 'avg_km': 20, 'business_activity': 20},\n",
        "]\n",
        "\n",
        "iot_analyzer = IoTFinanceAnalyzer(iot_data)\n",
        "iot_analyzer.analyze_and_visualize()"
      ],
      "execution_count": null,
      "outputs": [
        {
          "output_type": "stream",
          "name": "stdout",
          "text": [
            "Результаты анализа данных IoT:\n",
            "• Общее количество IoT записей: 10\n",
            "• Средний риск скоринг: 7.60\n",
            "• Высокорисковые пользователи: 2\n",
            "• Средняя бизнес-активность: 10.7\n"
          ]
        },
        {
          "output_type": "display_data",
          "data": {
            "text/plain": [
              "<Figure size 800x600 with 1 Axes>"
            ],
            "image/png": "[encoded data removed]"
          },
          "metadata": {}
        }
      ]
    },
    {
      "cell_type": "markdown",
      "source": [
        "**Результаты**\n",
        "\n",
        "•\tОбщее количество IoT записей: 60,329\n",
        "\n",
        "•\tТочность предсказания риска: 67.50%\n",
        "\n",
        "•\tВысокорисковые пользователи: 20 из 200\n",
        "\n",
        "•\tСредняя бизнес-активность: 37.6 транзакций/день\n"
      ],
      "metadata": {
        "id": "CkXysDuKN1N7"
      }
    }
  ]
}