{
  "nbformat": 4,
  "nbformat_minor": 0,
  "metadata": {
    "colab": {
      "provenance": [],
      "name": "Countering hacker attacks-1.ipynb",
      "authorship_tag": "ABX9TyNSzi8gaQA3qKWIHX82dnQK",
      "include_colab_link": true
    },
    "kernelspec": {
      "name": "python3",
      "display_name": "Python 3"
    },
    "language_info": {
      "name": "python"
    }
  },
  "cells": [
    {
      "cell_type": "markdown",
      "metadata": {
        "id": "view-in-github",
        "colab_type": "text"
      },
      "source": [
        "<a href=\"https://colab.research.google.com/github/IVMRanepa/AI-to-help-students-and-teachers/blob/main/Countering_hacker_attacks_1.ipynb\" target=\"_parent\"><img src=\"https://colab.research.google.com/assets/colab-badge.svg\" alt=\"Open In Colab\"/></a>"
      ]
    },
    {
      "cell_type": "markdown",
      "source": [
        "# **Программирование к практикуму «Противодействие хакерским атакам»**"
      ],
      "metadata": {
        "id": "Xb5hQlfloDh2"
      }
    },
    {
      "cell_type": "markdown",
      "source": [
        "**Практикум (Python 3) — Модуль 1: Сетевые атаки и стратегии защиты**"
      ],
      "metadata": {
        "id": "ZSKsBIF3oJ2G"
      }
    },
    {
      "cell_type": "markdown",
      "source": [
        "**Задание 1 — Инвентаризация активов (сгенерированный\n",
        "список)**\n",
        "\n",
        "**Цель:** показать, как формализовать инвентарь активов и оценить их критичность."
      ],
      "metadata": {
        "id": "DlObByVioZLX"
      }
    },
    {
      "cell_type": "code",
      "execution_count": null,
      "metadata": {
        "colab": {
          "base_uri": "https://localhost:8080/"
        },
        "outputId": "43cfbaa6-17ed-442f-bc26-c07b6b86b23a",
        "id": "SHRTBH9TvYCH"
      },
      "outputs": [
        {
          "output_type": "stream",
          "name": "stdout",
          "text": [
            "01 | host-1     | mail | criticality: medium\n",
            "02 | host-2     | iot  | criticality: high\n",
            "03 | host-3     | db   | criticality: medium\n",
            "04 | host-4     | iot  | criticality: low\n",
            "05 | host-5     | iot  | criticality: high\n",
            "06 | host-6     | web  | criticality: low\n",
            "07 | host-7     | db   | criticality: medium\n",
            "08 | host-8     | db   | criticality: low\n",
            "09 | host-9     | web  | criticality: medium\n",
            "10 | host-10    | iot  | criticality: high\n"
          ]
        }
      ],
      "source": [
        "# task1_assets.py\n",
        "# Генерируем список активов, присваиваем уровни критичности и выводим отчёт.\n",
        "import random\n",
        "assets = [\n",
        "    {\"id\": i, \"name\": f\"host-{i}\", \"type\":\n",
        "random.choice([\"web\",\"db\",\"mail\",\"iot\"]),\n",
        "      \"criticality\": random.choice([\"low\",\"medium\",\"high\"])}\n",
        "    for i in range(1,11)\n",
        "]\n",
        "# вывод отчёта\n",
        "for a in assets:\n",
        "    print(f\"{a['id']:02d} | {a['name']:10s} | {a['type']:4s} | criticality: {a['criticality']}\")"
      ]
    },
    {
      "cell_type": "markdown",
      "source": [
        "**Рекомендации:** держать актуальный CMDB/спросить у владельцев бизнес-процессы для\n",
        "корректной критичности.\n",
        "\n",
        "**Вывод:** инвентаризация — основа оценки риска и планирования защиты."
      ],
      "metadata": {
        "id": "Taqc9qbDpmBP"
      }
    },
    {
      "cell_type": "markdown",
      "source": [
        "**Задание 2 — Генерация логов рекогносцировки (port scan)**\n",
        "\n",
        "**Цель:** смоделировать сканирование портов и обнаружить сканер (много соединений с\n",
        "разными портами"
      ],
      "metadata": {
        "id": "Rk-CJx7GqVOo"
      }
    },
    {
      "cell_type": "code",
      "metadata": {
        "colab": {
          "base_uri": "https://localhost:8080/"
        },
        "outputId": "7a45de76-e289-4bde-88ed-60826ecda989",
        "id": "C-wtaNHVvu7e"
      },
      "source": [
        "# task1_assets.py\n",
        "# Генерируем список активов, присваиваем уровни критичности и выводим отчёт.\n",
        "import random\n",
        "assets = [\n",
        "    {\"id\": i, \"name\": f\"host-{i}\", \"type\": random.choice([\"web\",\"db\",\"mail\",\"iot\"]),\n",
        "      \"criticality\": random.choice([\"low\",\"medium\",\"high\"])}\n",
        "    for i in range(1,11)\n",
        "]\n",
        "# вывод отчёта\n",
        "for a in assets:\n",
        "    print(f\"{a['id']:02d} | {a['name']:10s} | {a['type']:4s} | criticality: {a['criticality']}\")"
      ],
      "execution_count": null,
      "outputs": [
        {
          "output_type": "stream",
          "name": "stdout",
          "text": [
            "01 | host-1     | iot  | criticality: medium\n",
            "02 | host-2     | web  | criticality: medium\n",
            "03 | host-3     | mail | criticality: medium\n",
            "04 | host-4     | web  | criticality: high\n",
            "05 | host-5     | db   | criticality: low\n",
            "06 | host-6     | web  | criticality: low\n",
            "07 | host-7     | db   | criticality: high\n",
            "08 | host-8     | web  | criticality: high\n",
            "09 | host-9     | mail | criticality: high\n",
            "10 | host-10    | mail | criticality: medium\n"
          ]
        }
      ]
    },
    {
      "cell_type": "markdown",
      "source": [
        "**Рекомендации:** включить IDS правило на множественные SYN к разным портам; ограничить rate-limits.\n",
        "\n",
        "**Вывод:** простой heuristic выявляет рекогносцировку."
      ],
      "metadata": {
        "id": "mxiCcuVBsfI-"
      }
    },
    {
      "cell_type": "markdown",
      "source": [
        "**Задание 3 — Сниффинг/прослушивание сети: анализ\n",
        "пакетов (симуляция)**\n",
        "**Цель:** симулировать перехват нешифрованных HTTP запросов в логах и находить креды в\n",
        "теле."
      ],
      "metadata": {
        "id": "QpPx3MHTspDs"
      }
    },
    {
      "cell_type": "markdown",
      "source": [
        "**Цель:** симулировать перехват нешифрованных HTTP запросов в логах и находить креды в\n",
        "теле."
      ],
      "metadata": {
        "id": "QY0m1NMMs1Mp"
      }
    },
    {
      "cell_type": "code",
      "source": [
        "# task3_sniff.py\n",
        "logs = [\n",
        "    {\"src\":\"10.0.0.11\",\"dst\":\"192.168.1.20\",\"proto\":\"HTTP\",\"payload\":\"\"\"GET /login\n",
        "username=admin&password=1234\"\"\"},\n",
        "    {\"src\":\"10.0.0.12\",\"dst\":\"192.168.1.20\",\"proto\":\"HTTP\",\"payload\":\"\"\"GET\n",
        "/index\"\"\"}\n",
        "]\n",
        "# поиск явных креденшлов в payload\n",
        "for l in logs:\n",
        "    if \"password=\" in l[\"payload\"]:\n",
        "        print(\"Possible credential leak:\", l)"
      ],
      "metadata": {
        "colab": {
          "base_uri": "https://localhost:8080/"
        },
        "outputId": "241c70d4-e8f8-47c7-9547-873e52a5a000",
        "id": "nwhdazs2wGY0"
      },
      "execution_count": null,
      "outputs": [
        {
          "output_type": "stream",
          "name": "stdout",
          "text": [
            "Possible credential leak: {'src': '10.0.0.11', 'dst': '192.168.1.20', 'proto': 'HTTP', 'payload': 'GET /login\\nusername=admin&password=1234'}\n"
          ]
        }
      ]
    },
    {
      "cell_type": "markdown",
      "source": [
        "**Рекомендации:** переходить на HTTPS, HSTS, применять DPI и удалять хранение паролей в URL.\n",
        "\n",
        "**Вывод:** прослушивание выявляет утечки паролей при нешифрованном трафике."
      ],
      "metadata": {
        "id": "Tn11Vs-DtqTn"
      }
    },
    {
      "cell_type": "markdown",
      "source": [
        "**Задание 4 — Атаки на пароли: симуляция брутфорса SSH**\n",
        "\n",
        "**Цель:** сгенерировать попытки логина и детектировать brute-force."
      ],
      "metadata": {
        "id": "VXyGHxpGxvPK"
      }
    },
    {
      "cell_type": "code",
      "source": [
        "# task5_bruteforce.py\n",
        "attempts = [{\"user\":\"root\",\"src\":\"10.0.0.8\",\"result\":\"fail\"}]*50 + [{\"user\":\"root\",\"src\":\"10.0.0.8\",\"result\":\"success\"}]\n",
        "# простая детекция: > N неудачных попыток с одного IP\n",
        "from collections import Counter\n",
        "fails = Counter(a[\"src\"] for a in attempts if a[\"result\"]==\"fail\")\n",
        "for ip,count in fails.items():\n",
        "    if count > 10:\n",
        "        print(f\"Brute-force suspected from {ip}: {count} failed attempts\")"
      ],
      "metadata": {
        "colab": {
          "base_uri": "https://localhost:8080/"
        },
        "outputId": "58c68290-7c57-4ccd-b243-7a340e8b3dd7",
        "id": "GIm4Rjhgyd6B"
      },
      "execution_count": null,
      "outputs": [
        {
          "output_type": "stream",
          "name": "stdout",
          "text": [
            "Brute-force suspected from 10.0.0.8: 50 failed attempts\n"
          ]
        }
      ]
    },
    {
      "cell_type": "markdown",
      "source": [
        "**Рекомендации:** применять fail2ban, MFA, ограничение по rate и ключи SSH вместо паролей.\n",
        "\n",
        "**Вывод:** простая агрегация логов эффективно выявляет брутфорс."
      ],
      "metadata": {
        "id": "w0c5beaeD5i6"
      }
    },
    {
      "cell_type": "markdown",
      "source": [
        "**Задание 5 — Повышение привилегий: поиск SUID-файлов\n",
        "(симуляция)**\n",
        "\n",
        "**Цель:** показать риски SUID/SGID файлов"
      ],
      "metadata": {
        "id": "ukcvkSynysSv"
      }
    },
    {
      "cell_type": "code",
      "source": [
        "# task6_suid.py\n",
        "files = [\n",
        "    {\"path\":\"/usr/bin/safe\",\"mode\":\"0755\"},\n",
        "    {\"path\":\"/usr/bin/vuln\",\"mode\":\"4755\"}, # SUID set\n",
        "]\n",
        "suid = [f for f in files if f[\"mode\"].startswith(\"4\")]\n",
        "print(\"SUID/SGID found:\", suid)"
      ],
      "metadata": {
        "colab": {
          "base_uri": "https://localhost:8080/"
        },
        "id": "1r_mts-IzCq-",
        "outputId": "041c986e-db1f-4b6b-9f0d-dcbdc2e02fac"
      },
      "execution_count": null,
      "outputs": [
        {
          "output_type": "stream",
          "name": "stdout",
          "text": [
            "SUID/SGID found: [{'path': '/usr/bin/vuln', 'mode': '4755'}]\n"
          ]
        }
      ]
    },
    {
      "cell_type": "markdown",
      "source": [
        "**Рекомендации:** удалить ненужные SUID/SGID, контролировать via CIS benchmarks.\n",
        "\n",
        "**Вывод:** SUID — частая точка повышения привилегий."
      ],
      "metadata": {
        "id": "7vxOuMTEzUmR"
      }
    },
    {
      "cell_type": "code",
      "source": [],
      "metadata": {
        "id": "rUFwIliLFk9B"
      },
      "execution_count": null,
      "outputs": []
    }
  ]
}